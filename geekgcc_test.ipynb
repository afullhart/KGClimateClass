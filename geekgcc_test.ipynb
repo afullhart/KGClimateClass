{
  "cells": [
    {
      "cell_type": "markdown",
      "metadata": {
        "id": "view-in-github",
        "colab_type": "text"
      },
      "source": [
        "<a href=\"https://colab.research.google.com/github/afullhart/KGClimateClass/blob/main/geekgcc_test.ipynb\" target=\"_parent\"><img src=\"https://colab.research.google.com/assets/colab-badge.svg\" alt=\"Open In Colab\"/></a>"
      ]
    },
    {
      "cell_type": "code",
      "execution_count": null,
      "metadata": {
        "id": "lIYdn1woOS1n"
      },
      "outputs": [],
      "source": [
        "!git clone https://github.com/ARS-SWRC/GEE-KGCC\n",
        "!pip install GEE-KGCC/geekgcc_package"
      ]
    },
    {
      "cell_type": "code",
      "source": [
        "#This will open a web-browser for log-in steps.\n",
        "import ee\n",
        "\n",
        "ee.Authenticate()\n",
        "geeusername = 'andrewfullhart' #Enter your GEE username.\n",
        "ee.Initialize(project='ee-' + geeusername)\n"
      ],
      "metadata": {
        "id": "5m6FskXhtcfw"
      },
      "execution_count": 2,
      "outputs": []
    },
    {
      "cell_type": "code",
      "source": [
        "import ee\n",
        "import geekgcc\n",
        "\n",
        "vis = True #Visualizate with geemap True/False\n",
        "dl = False #Download to Google Drive True/False\n",
        "\n",
        "###############\n",
        "#PRE-PROCESSING\n",
        "###############\n",
        "worldclim_path = 'WORLDCLIM/V1/MONTHLY'\n",
        "ic = ee.ImageCollection(worldclim_path)\n",
        "\n",
        "#Northern hemisphere\n",
        "custom_geo = ee.Geometry.BBox(-180.00, 0.00, 179.99, 89.99)\n",
        "#Southern hemisphere\n",
        "#custom_geo = ee.Geometry.BBox(-180.00, 0.00, 179.99, -89.99)\n",
        "\n",
        "def clip_fn(im_obj):\n",
        "  im = ee.Image(im_obj)\n",
        "  clip_im = im.clip(custom_geo)\n",
        "  return clip_im\n",
        "\n",
        "ic_clip = ee.ImageCollection(ic.map(clip_fn))\n",
        "t_scaled_ic = ee.ImageCollection(ic_clip.select('tavg'))\n",
        "\n",
        "def unit_scaling_fn(im_obj):\n",
        "  scaled_im = ee.Image(im_obj)\n",
        "  im = scaled_im.multiply(0.1)\n",
        "  return im\n",
        "\n",
        "#Monthly mean precipitation (12 images)\n",
        "p_ic = ee.ImageCollection(ic_clip.select('prec'))\n",
        "#Monthly mean temperature (12 images)\n",
        "t_ic = ee.ImageCollection(t_scaled_ic.map(unit_scaling_fn))\n",
        "\n",
        "###############\n",
        "#CLASSIFICATION\n",
        "###############\n",
        "type_im = geekgcc.KGCC.classify(p_ic, t_ic, 'north')\n",
        "\n",
        "############\n",
        "#DOWNLOADING\n",
        "############\n",
        "if dl == True:\n",
        "  #Scale is a client-side object that can be determined from\n",
        "  #the first image in the collection used to calculate p_ic and t_ic.\n",
        "  scale = ic.first().projection().nominalScale().getInfo()\n",
        "  #client-side object of the downloaded geotif file name.\n",
        "  file_name = 'test_kgcc_map'\n",
        "  geekgcc.KGCC.download(type_im, custom_geo, scale, file_name)\n",
        "\n"
      ],
      "metadata": {
        "id": "xSodIepMtLyy"
      },
      "execution_count": 3,
      "outputs": []
    },
    {
      "cell_type": "code",
      "source": [
        "############\n",
        "#VISUALIZING\n",
        "############\n",
        "\n",
        "#Will run when vis == True.\n",
        "#Should be run in own block, as currently done.\n",
        "\n",
        "if vis == True:\n",
        "  import geemap\n",
        "  geemap.ee_initialize()\n",
        "\n",
        "  Map = geemap.Map(center=[40,-100], zoom=3)\n",
        "  vis_params = geekgcc.KGCC.get_vis_params()\n",
        "  Map.addLayer(type_im, vis_params)\n",
        "\n",
        "  #Use Map.save() can be used when running on a desktop-based code editor.\n",
        "  #this will save the map widget as an html doc in the working directory\n",
        "  #Map.save('map.html')\n",
        "\n",
        "  #Use Map when an online web-based editor like Google Colab.\n",
        "  Map"
      ],
      "metadata": {
        "id": "zi6PLnPVzlxQ",
        "outputId": "f543b23c-92eb-41a1-f9b4-ebb25362e047",
        "colab": {
          "base_uri": "https://localhost:8080/",
          "height": 17
        }
      },
      "execution_count": 5,
      "outputs": [
        {
          "output_type": "display_data",
          "data": {
            "text/plain": [
              "<IPython.core.display.HTML object>"
            ],
            "text/html": [
              "\n",
              "            <style>\n",
              "                .geemap-dark {\n",
              "                    --jp-widgets-color: white;\n",
              "                    --jp-widgets-label-color: white;\n",
              "                    --jp-ui-font-color1: white;\n",
              "                    --jp-layout-color2: #454545;\n",
              "                    background-color: #383838;\n",
              "                }\n",
              "\n",
              "                .geemap-dark .jupyter-button {\n",
              "                    --jp-layout-color3: #383838;\n",
              "                }\n",
              "\n",
              "                .geemap-colab {\n",
              "                    background-color: var(--colab-primary-surface-color, white);\n",
              "                }\n",
              "\n",
              "                .geemap-colab .jupyter-button {\n",
              "                    --jp-layout-color3: var(--colab-primary-surface-color, white);\n",
              "                }\n",
              "            </style>\n",
              "            "
            ]
          },
          "metadata": {}
        }
      ]
    }
  ],
  "metadata": {
    "colab": {
      "name": "scratchpad",
      "provenance": [],
      "include_colab_link": true
    },
    "kernelspec": {
      "display_name": "Python 3",
      "name": "python3"
    }
  },
  "nbformat": 4,
  "nbformat_minor": 0
}