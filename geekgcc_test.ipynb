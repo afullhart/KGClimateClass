{
  "cells": [
    {
      "cell_type": "markdown",
      "metadata": {
        "id": "view-in-github",
        "colab_type": "text"
      },
      "source": [
        "<a href=\"https://colab.research.google.com/github/afullhart/KGClimateClass/blob/main/geekgcc_test.ipynb\" target=\"_parent\"><img src=\"https://colab.research.google.com/assets/colab-badge.svg\" alt=\"Open In Colab\"/></a>"
      ]
    },
    {
      "cell_type": "code",
      "execution_count": null,
      "metadata": {
        "id": "lIYdn1woOS1n"
      },
      "outputs": [],
      "source": [
        "import ee\n",
        "import geekgcc\n",
        "import geemap\n",
        "\n",
        "ee.Authenticate()\n",
        "geeusername = 'andrewfullhart' #Enter your GEE username.\n",
        "ee.Initialize(project='ee-' + geeusername)\n",
        "\n",
        "vis = True\n",
        "dl = False\n",
        "\n",
        "###############\n",
        "#PRE-PROCESSING\n",
        "###############\n",
        "worldclim_path = 'WORLDCLIM/V1/MONTHLY'\n",
        "ic = ee.ImageCollection(worldclim_path)\n",
        "\n",
        "#Northern hemisphere\n",
        "custom_geo = ee.Geometry.BBox(-180.00, 0.00, 179.99, 89.99)\n",
        "#Southern hemisphere\n",
        "#custom_geo = ee.Geometry.BBox(-180.00, 0.00, 179.99, -89.99)\n",
        "\n",
        "def clip_fn(im_obj):\n",
        "  im = ee.Image(im_obj)\n",
        "  clip_im = im.clip(custom_geo)\n",
        "  return clip_im\n",
        "\n",
        "ic_clip = ee.ImageCollection(ic.map(clip_fn))\n",
        "t_scaled_ic = ee.ImageCollection(ic_clip.select('tavg'))\n",
        "\n",
        "def unit_scaling_fn(im_obj):\n",
        "  scaled_im = ee.Image(im_obj)\n",
        "  im = scaled_im.multiply(0.1)\n",
        "  return im\n",
        "\n",
        "#Monthly mean precipitation (12 images)\n",
        "p_ic = ee.ImageCollection(ic_clip.select('prec'))\n",
        "#Monthly mean temperature (12 images)\n",
        "t_ic = ee.ImageCollection(t_scaled_ic.map(unit_scaling_fn))\n",
        "\n",
        "###############\n",
        "#CLASSIFICATION\n",
        "###############\n",
        "type_im = geekgcc.KGCC.classify(p_ic, t_ic, 'north')\n",
        "\n",
        "############\n",
        "#DOWNLOADING\n",
        "############\n",
        "if dl == True:\n",
        "  #Scale is a client-side object that can be determined from\n",
        "  #the first image in the collection used to calculate p_ic and t_ic.\n",
        "  scale = ic.first().projection().nominalScale().getInfo()\n",
        "  #client-side object of the downloaded geotif file name.\n",
        "  file_name = 'test_kgcc_map'\n",
        "  geekgcc.KGCC.download(type_im, custom_geo, scale, file_name)\n",
        "\n",
        "############\n",
        "#VISUALIZING\n",
        "############\n",
        "if vis == True:\n",
        "  vis_params = geekgcc.KGCC.get_vis_params()\n",
        "  geemap.ee_initialize()\n",
        "  Map = geemap.Map(center=[40,-100], zoom=3)\n",
        "  Map.addLayer(type_im, vis_params)\n",
        "\n",
        "  #Use Map.save() can be used when running on a desktop-based code editor.\n",
        "  #this will save the map widget as an html doc in the working directory\n",
        "  Map.save('map.html')\n",
        "\n",
        "  #Use Map when an online web-based editor like Google Colab.\n",
        "  #Map"
      ]
    }
  ],
  "metadata": {
    "colab": {
      "name": "scratchpad",
      "provenance": [],
      "include_colab_link": true
    },
    "kernelspec": {
      "display_name": "Python 3",
      "name": "python3"
    }
  },
  "nbformat": 4,
  "nbformat_minor": 0
}