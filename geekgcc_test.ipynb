{
  "cells": [
    {
      "cell_type": "markdown",
      "metadata": {
        "id": "view-in-github",
        "colab_type": "text"
      },
      "source": [
        "<a href=\"https://colab.research.google.com/github/afullhart/KGClimateClass/blob/main/geekgcc_test.ipynb\" target=\"_parent\"><img src=\"https://colab.research.google.com/assets/colab-badge.svg\" alt=\"Open In Colab\"/></a>"
      ]
    },
    {
      "cell_type": "code",
      "execution_count": 1,
      "metadata": {
        "id": "lIYdn1woOS1n",
        "colab": {
          "base_uri": "https://localhost:8080/"
        },
        "outputId": "1e4ad356-31a5-4af7-cea2-6116ac817238"
      },
      "outputs": [
        {
          "output_type": "stream",
          "name": "stdout",
          "text": [
            "Cloning into 'GEE-KGCC'...\n",
            "remote: Enumerating objects: 394, done.\u001b[K\n",
            "remote: Counting objects: 100% (128/128), done.\u001b[K\n",
            "remote: Compressing objects: 100% (77/77), done.\u001b[K\n",
            "remote: Total 394 (delta 85), reused 44 (delta 44), pack-reused 266 (from 2)\u001b[K\n",
            "Receiving objects: 100% (394/394), 3.59 MiB | 26.65 MiB/s, done.\n",
            "Resolving deltas: 100% (215/215), done.\n",
            "Processing ./GEE-KGCC/geekgcc_package\n",
            "  Installing build dependencies ... \u001b[?25l\u001b[?25hdone\n",
            "  Getting requirements to build wheel ... \u001b[?25l\u001b[?25hdone\n",
            "  Preparing metadata (pyproject.toml) ... \u001b[?25l\u001b[?25hdone\n",
            "Requirement already satisfied: earthengine-api in /usr/local/lib/python3.12/dist-packages (from geekgcc==0.1.0) (1.5.24)\n",
            "Requirement already satisfied: google-cloud-storage in /usr/local/lib/python3.12/dist-packages (from earthengine-api->geekgcc==0.1.0) (2.19.0)\n",
            "Requirement already satisfied: google-api-python-client>=1.12.1 in /usr/local/lib/python3.12/dist-packages (from earthengine-api->geekgcc==0.1.0) (2.182.0)\n",
            "Requirement already satisfied: google-auth>=1.4.1 in /usr/local/lib/python3.12/dist-packages (from earthengine-api->geekgcc==0.1.0) (2.38.0)\n",
            "Requirement already satisfied: google-auth-httplib2>=0.0.3 in /usr/local/lib/python3.12/dist-packages (from earthengine-api->geekgcc==0.1.0) (0.2.0)\n",
            "Requirement already satisfied: httplib2<1dev,>=0.9.2 in /usr/local/lib/python3.12/dist-packages (from earthengine-api->geekgcc==0.1.0) (0.31.0)\n",
            "Requirement already satisfied: requests in /usr/local/lib/python3.12/dist-packages (from earthengine-api->geekgcc==0.1.0) (2.32.4)\n",
            "Requirement already satisfied: google-api-core!=2.0.*,!=2.1.*,!=2.2.*,!=2.3.0,<3.0.0,>=1.31.5 in /usr/local/lib/python3.12/dist-packages (from google-api-python-client>=1.12.1->earthengine-api->geekgcc==0.1.0) (2.25.1)\n",
            "Requirement already satisfied: uritemplate<5,>=3.0.1 in /usr/local/lib/python3.12/dist-packages (from google-api-python-client>=1.12.1->earthengine-api->geekgcc==0.1.0) (4.2.0)\n",
            "Requirement already satisfied: cachetools<6.0,>=2.0.0 in /usr/local/lib/python3.12/dist-packages (from google-auth>=1.4.1->earthengine-api->geekgcc==0.1.0) (5.5.2)\n",
            "Requirement already satisfied: pyasn1-modules>=0.2.1 in /usr/local/lib/python3.12/dist-packages (from google-auth>=1.4.1->earthengine-api->geekgcc==0.1.0) (0.4.2)\n",
            "Requirement already satisfied: rsa<5,>=3.1.4 in /usr/local/lib/python3.12/dist-packages (from google-auth>=1.4.1->earthengine-api->geekgcc==0.1.0) (4.9.1)\n",
            "Requirement already satisfied: pyparsing<4,>=3.0.4 in /usr/local/lib/python3.12/dist-packages (from httplib2<1dev,>=0.9.2->earthengine-api->geekgcc==0.1.0) (3.2.4)\n",
            "Requirement already satisfied: google-cloud-core<3.0dev,>=2.3.0 in /usr/local/lib/python3.12/dist-packages (from google-cloud-storage->earthengine-api->geekgcc==0.1.0) (2.4.3)\n",
            "Requirement already satisfied: google-resumable-media>=2.7.2 in /usr/local/lib/python3.12/dist-packages (from google-cloud-storage->earthengine-api->geekgcc==0.1.0) (2.7.2)\n",
            "Requirement already satisfied: google-crc32c<2.0dev,>=1.0 in /usr/local/lib/python3.12/dist-packages (from google-cloud-storage->earthengine-api->geekgcc==0.1.0) (1.7.1)\n",
            "Requirement already satisfied: charset_normalizer<4,>=2 in /usr/local/lib/python3.12/dist-packages (from requests->earthengine-api->geekgcc==0.1.0) (3.4.3)\n",
            "Requirement already satisfied: idna<4,>=2.5 in /usr/local/lib/python3.12/dist-packages (from requests->earthengine-api->geekgcc==0.1.0) (3.10)\n",
            "Requirement already satisfied: urllib3<3,>=1.21.1 in /usr/local/lib/python3.12/dist-packages (from requests->earthengine-api->geekgcc==0.1.0) (2.5.0)\n",
            "Requirement already satisfied: certifi>=2017.4.17 in /usr/local/lib/python3.12/dist-packages (from requests->earthengine-api->geekgcc==0.1.0) (2025.8.3)\n",
            "Requirement already satisfied: googleapis-common-protos<2.0.0,>=1.56.2 in /usr/local/lib/python3.12/dist-packages (from google-api-core!=2.0.*,!=2.1.*,!=2.2.*,!=2.3.0,<3.0.0,>=1.31.5->google-api-python-client>=1.12.1->earthengine-api->geekgcc==0.1.0) (1.70.0)\n",
            "Requirement already satisfied: protobuf!=3.20.0,!=3.20.1,!=4.21.0,!=4.21.1,!=4.21.2,!=4.21.3,!=4.21.4,!=4.21.5,<7.0.0,>=3.19.5 in /usr/local/lib/python3.12/dist-packages (from google-api-core!=2.0.*,!=2.1.*,!=2.2.*,!=2.3.0,<3.0.0,>=1.31.5->google-api-python-client>=1.12.1->earthengine-api->geekgcc==0.1.0) (5.29.5)\n",
            "Requirement already satisfied: proto-plus<2.0.0,>=1.22.3 in /usr/local/lib/python3.12/dist-packages (from google-api-core!=2.0.*,!=2.1.*,!=2.2.*,!=2.3.0,<3.0.0,>=1.31.5->google-api-python-client>=1.12.1->earthengine-api->geekgcc==0.1.0) (1.26.1)\n",
            "Requirement already satisfied: pyasn1<0.7.0,>=0.6.1 in /usr/local/lib/python3.12/dist-packages (from pyasn1-modules>=0.2.1->google-auth>=1.4.1->earthengine-api->geekgcc==0.1.0) (0.6.1)\n",
            "Building wheels for collected packages: geekgcc\n",
            "  Building wheel for geekgcc (pyproject.toml) ... \u001b[?25l\u001b[?25hdone\n",
            "  Created wheel for geekgcc: filename=geekgcc-0.1.0-py3-none-any.whl size=4403 sha256=f81ab2c3a9ed39cdff60307f69b99766db53dd6e61bafa00606b09677f5819e6\n",
            "  Stored in directory: /tmp/pip-ephem-wheel-cache-mem68zlx/wheels/07/98/3c/851f44900d04cda4a23ccbf33db706007781bfa51199da0b45\n",
            "Successfully built geekgcc\n",
            "Installing collected packages: geekgcc\n",
            "Successfully installed geekgcc-0.1.0\n"
          ]
        }
      ],
      "source": [
        "!git clone https://github.com/ARS-SWRC/GEE-KGCC\n",
        "!pip install GEE-KGCC/geekgcc_package"
      ]
    },
    {
      "cell_type": "code",
      "source": [
        "import ee\n",
        "\n",
        "#This will open a web browser for log-in steps.\n",
        "ee.Authenticate()\n",
        "geeusername = 'andrewfullhart' #Enter your GEE username.\n",
        "ee.Initialize(project='ee-' + geeusername)"
      ],
      "metadata": {
        "id": "okUDMphAuu8V"
      },
      "execution_count": null,
      "outputs": []
    },
    {
      "cell_type": "code",
      "source": [
        "\n",
        "#ee should be initialized before importing geekgcc.\n",
        "import geekgcc\n",
        "\n",
        "vis = True #Visualizate with geemap True/False\n",
        "dl = False #Download to Google Drive True/False\n",
        "\n",
        "###############\n",
        "#PRE-PROCESSING\n",
        "###############\n",
        "worldclim_path = 'WORLDCLIM/V1/MONTHLY'\n",
        "ic = ee.ImageCollection(worldclim_path)\n",
        "\n",
        "#Northern hemisphere\n",
        "custom_geo = ee.Geometry.BBox(-180.00, 0.00, 179.99, 89.99)\n",
        "#Southern hemisphere\n",
        "#custom_geo = ee.Geometry.BBox(-180.00, 0.00, 179.99, -89.99)\n",
        "\n",
        "def clip_fn(im_obj):\n",
        "  im = ee.Image(im_obj)\n",
        "  clip_im = im.clip(custom_geo)\n",
        "  return clip_im\n",
        "\n",
        "ic_clip = ee.ImageCollection(ic.map(clip_fn))\n",
        "t_scaled_ic = ee.ImageCollection(ic_clip.select('tavg'))\n",
        "\n",
        "def unit_scaling_fn(im_obj):\n",
        "  scaled_im = ee.Image(im_obj)\n",
        "  im = scaled_im.multiply(0.1)\n",
        "  return im\n",
        "\n",
        "#Monthly mean precipitation (12 images)\n",
        "p_ic = ee.ImageCollection(ic_clip.select('prec'))\n",
        "#Monthly mean temperature (12 images)\n",
        "t_ic = ee.ImageCollection(t_scaled_ic.map(unit_scaling_fn))\n",
        "\n",
        "###############\n",
        "#CLASSIFICATION\n",
        "###############\n",
        "type_im = geekgcc.KGCC.classify(p_ic, t_ic, 'north')\n",
        "\n",
        "############\n",
        "#DOWNLOADING\n",
        "############\n",
        "if dl == True:\n",
        "  #Scale is a client-side object that can be determined from\n",
        "  #the first image in the collection used to calculate p_ic and t_ic.\n",
        "  scale = ic.first().projection().nominalScale().getInfo()\n",
        "  #client-side object of the downloaded geotif file name.\n",
        "  file_name = 'test_kgcc_map'\n",
        "  geekgcc.KGCC.download(type_im, custom_geo, scale, file_name)\n",
        "\n"
      ],
      "metadata": {
        "id": "xSodIepMtLyy"
      },
      "execution_count": 3,
      "outputs": []
    },
    {
      "cell_type": "code",
      "source": [
        "############\n",
        "#VISUALIZING\n",
        "############\n",
        "\n",
        "#Will run when vis == True.\n",
        "#Should be run in own block, as currently done.\n",
        "\n",
        "if vis == True:\n",
        "  import geemap\n",
        "  geemap.ee_initialize()\n",
        "\n",
        "  Map = geemap.Map(center=[40,-100], zoom=3)\n",
        "  vis_params = geekgcc.KGCC.get_vis_params()\n",
        "  Map.addLayer(type_im, vis_params)\n",
        "\n",
        "  #Use Map.save() can be used when running on a desktop-based code editor.\n",
        "  #this will save the map widget as an html doc in the working directory\n",
        "  #Map.save('map.html')\n",
        "\n",
        "  #Use Map when an online web-based editor like Google Colab.\n",
        "  Map"
      ],
      "metadata": {
        "colab": {
          "base_uri": "https://localhost:8080/",
          "height": 17
        },
        "id": "zi6PLnPVzlxQ",
        "outputId": "f543b23c-92eb-41a1-f9b4-ebb25362e047"
      },
      "execution_count": 5,
      "outputs": [
        {
          "output_type": "display_data",
          "data": {
            "text/plain": [
              "<IPython.core.display.HTML object>"
            ],
            "text/html": [
              "\n",
              "            <style>\n",
              "                .geemap-dark {\n",
              "                    --jp-widgets-color: white;\n",
              "                    --jp-widgets-label-color: white;\n",
              "                    --jp-ui-font-color1: white;\n",
              "                    --jp-layout-color2: #454545;\n",
              "                    background-color: #383838;\n",
              "                }\n",
              "\n",
              "                .geemap-dark .jupyter-button {\n",
              "                    --jp-layout-color3: #383838;\n",
              "                }\n",
              "\n",
              "                .geemap-colab {\n",
              "                    background-color: var(--colab-primary-surface-color, white);\n",
              "                }\n",
              "\n",
              "                .geemap-colab .jupyter-button {\n",
              "                    --jp-layout-color3: var(--colab-primary-surface-color, white);\n",
              "                }\n",
              "            </style>\n",
              "            "
            ]
          },
          "metadata": {}
        }
      ]
    }
  ],
  "metadata": {
    "colab": {
      "name": "scratchpad",
      "provenance": [],
      "include_colab_link": true
    },
    "kernelspec": {
      "display_name": "Python 3",
      "name": "python3"
    }
  },
  "nbformat": 4,
  "nbformat_minor": 0
}