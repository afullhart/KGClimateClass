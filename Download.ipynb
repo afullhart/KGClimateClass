{
  "nbformat": 4,
  "nbformat_minor": 0,
  "metadata": {
    "colab": {
      "provenance": [],
      "authorship_tag": "ABX9TyOGjTWaSt2GWSTjD0rcFexc"
    },
    "kernelspec": {
      "name": "python3",
      "display_name": "Python 3"
    },
    "language_info": {
      "name": "python"
    }
  },
  "cells": [
    {
      "cell_type": "code",
      "execution_count": 1,
      "metadata": {
        "id": "Est6O_y2sLjP"
      },
      "outputs": [],
      "source": [
        "%reset -f"
      ]
    },
    {
      "cell_type": "code",
      "source": [
        "import ee\n",
        "ee.Authenticate()\n"
      ],
      "metadata": {
        "id": "ohg6nRuQ0d9u"
      },
      "execution_count": null,
      "outputs": []
    },
    {
      "cell_type": "code",
      "source": [
        "\n",
        "var prism_ic = ee.ImageCollection('OREGONSTATE/PRISM/AN81m');\n",
        "\n",
        "\n"
      ],
      "metadata": {
        "id": "Eo8gIsbw09lg"
      },
      "execution_count": null,
      "outputs": []
    }
  ]
}